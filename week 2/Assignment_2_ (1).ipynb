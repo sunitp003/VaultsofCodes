{
  "nbformat": 4,
  "nbformat_minor": 0,
  "metadata": {
    "colab": {
      "provenance": []
    },
    "kernelspec": {
      "name": "python3",
      "display_name": "Python 3"
    },
    "language_info": {
      "name": "python"
    }
  },
  "cells": [
    {
      "cell_type": "markdown",
      "source": [
        "# **Assignment 2:**"
      ],
      "metadata": {
        "id": "22NdBYSoOul8"
      }
    },
    {
      "cell_type": "markdown",
      "source": [
        "***Task 1: Word Frequency Counter***\n",
        "\n",
        "\n"
      ],
      "metadata": {
        "id": "1zJPxsWJO0PW"
      }
    },
    {
      "cell_type": "code",
      "source": [
        "def count_word_frequencies(text):\n",
        "    words = text.split()\n",
        "    frequency = {}\n",
        "\n",
        "    for word in words:\n",
        "        if word in frequency:\n",
        "            frequency[word] += 1\n",
        "        else:\n",
        "            frequency[word] = 1\n",
        "\n",
        "    return frequency\n",
        "\n",
        "#  usage:\n",
        "input_text = \"Hello world hello\"\n",
        "word_frequencies = count_word_frequencies(input_text)\n",
        "print(\"Word Frequencies:\", word_frequencies)\n"
      ],
      "metadata": {
        "colab": {
          "base_uri": "https://localhost:8080/"
        },
        "id": "nueuluYGOusu",
        "outputId": "e622424f-4898-411f-b51d-148081948ce4"
      },
      "execution_count": 4,
      "outputs": [
        {
          "output_type": "stream",
          "name": "stdout",
          "text": [
            "Word Frequencies: {'Hello': 1, 'world': 1, 'hello': 1}\n"
          ]
        }
      ]
    },
    {
      "cell_type": "markdown",
      "source": [
        "***Task 2: Palindrome Checker***"
      ],
      "metadata": {
        "id": "LUOW7C7jOuzh"
      }
    },
    {
      "cell_type": "code",
      "source": [
        "def is_palindrome(word):\n",
        "    return word == word[::-1]\n",
        "\n",
        "#  usage:\n",
        "input_word = \"radar\"\n",
        "if is_palindrome(input_word):\n",
        "    print(f\"{input_word} is a palindrome\")\n",
        "else:\n",
        "    print(f\"{input_word} is not a palindrome\")\n"
      ],
      "metadata": {
        "colab": {
          "base_uri": "https://localhost:8080/"
        },
        "id": "4BgrlZ2UOu44",
        "outputId": "18f4bf23-cb47-423c-da02-643d8df39c08"
      },
      "execution_count": 5,
      "outputs": [
        {
          "output_type": "stream",
          "name": "stdout",
          "text": [
            "radar is a palindrome\n"
          ]
        }
      ]
    },
    {
      "cell_type": "markdown",
      "source": [
        "***Task 3: List Manipulation (Printing Squares)***"
      ],
      "metadata": {
        "id": "9HhH-_f9Ou-c"
      }
    },
    {
      "cell_type": "code",
      "source": [
        "def print_square_of_numbers(numbers):\n",
        "    for num in numbers:\n",
        "        print(f\"Square of {num} is: {num*num}\")\n",
        "\n",
        "#  usage:\n",
        "number_list = [1, 2, 3, 4, 5]\n",
        "print_square_of_numbers(number_list)\n"
      ],
      "metadata": {
        "colab": {
          "base_uri": "https://localhost:8080/"
        },
        "id": "87-JzNbqOvDI",
        "outputId": "a0c84520-b198-42f7-c5dc-7c442d75f0ac"
      },
      "execution_count": 6,
      "outputs": [
        {
          "output_type": "stream",
          "name": "stdout",
          "text": [
            "Square of 1 is: 1\n",
            "Square of 2 is: 4\n",
            "Square of 3 is: 9\n",
            "Square of 4 is: 16\n",
            "Square of 5 is: 25\n"
          ]
        }
      ]
    }
  ]
}